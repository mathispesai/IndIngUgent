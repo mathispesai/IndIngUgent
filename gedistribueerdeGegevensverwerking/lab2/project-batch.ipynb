{
 "cells": [
  {
   "cell_type": "code",
   "execution_count": 1,
   "metadata": {},
   "outputs": [],
   "source": [
    "#%pip install pyspark"
   ]
  },
  {
   "cell_type": "markdown",
   "metadata": {},
   "source": [
    "1. AQI is a non-linear indication of how a specific airborne chemical affects public health. Calculate the AQI values for each indicator's daily mean (see https://www.airnow.gov/sites/default/files/2020-05/aqi-technical-assistance-document-sept2018.pdf page 14 - 15, use the longest periods available; 8 or 24 hrs). Note that this might not correspond perfectly with the dataset's existing AQI values as it depends on the timescale used (1hr, 8hrs or other). For the rest of the questions, you are allowed to use the dataset's AQI values."
   ]
  },
  {
   "cell_type": "code",
   "execution_count": 2,
   "metadata": {},
   "outputs": [],
   "source": [
    "#create SparkContext\n",
    "from pyspark import SparkContext, SparkConf\n",
    "from pyspark.sql import SparkSession\n",
    "from pyspark.sql.types import DoubleType\n",
    "from pyspark.sql import functions as F\n",
    "from pyspark.sql.window import Window\n",
    "import operator\n",
    "\n",
    "conf = SparkConf().setAppName(\"test\").setMaster(\"local\")\n",
    "sc = SparkContext(conf=conf)"
   ]
  },
  {
   "cell_type": "code",
   "execution_count": 3,
   "metadata": {},
   "outputs": [
    {
     "name": "stdout",
     "output_type": "stream",
     "text": [
      "+----------+----+-----+---+--------------------+-------+--------+-------+--------+----------------+---------------+------+------------------+----------------+---------------+------+------------------+-----------------+----------------+-------+---------+-----------------+----------------+-------+\n",
      "|      Date|Year|Month|Day|             Address|  State|  County|   City| O3 Mean|O3 1st Max Value|O3 1st Max Hour|O3 AQI|           CO Mean|CO 1st Max Value|CO 1st Max Hour|CO AQI|          SO2 Mean|SO2 1st Max Value|SO2 1st Max Hour|SO2 AQI| NO2 Mean|NO2 1st Max Value|NO2 1st Max Hour|NO2 AQI|\n",
      "+----------+----+-----+---+--------------------+-------+--------+-------+--------+----------------+---------------+------+------------------+----------------+---------------+------+------------------+-----------------+----------------+-------+---------+-----------------+----------------+-------+\n",
      "|2000-01-01|2000|    1|  1|1645 E ROOSEVELT ...|Arizona|Maricopa|Phoenix|0.019765|            0.04|             10|    37|0.8789469999999999|             2.2|             23|  25.0|               3.0|              9.0|              21|   13.0|19.041667|             49.0|              19|     46|\n",
      "|2000-01-02|2000|    1|  2|1645 E ROOSEVELT ...|Arizona|Maricopa|Phoenix|0.015882|           0.032|             10|    30|          1.066667|             2.3|              0|  26.0|          1.958333|              3.0|              22|    4.0|22.958333|             36.0|              19|     34|\n",
      "|2000-01-03|2000|    1|  3|1645 E ROOSEVELT ...|Arizona|Maricopa|Phoenix|0.009353|           0.016|              9|    15|            1.7625|             2.5|              8|  28.0|              5.25|             11.0|              19|   16.0|   38.125|             51.0|               8|     48|\n",
      "|2000-01-04|2000|    1|  4|1645 E ROOSEVELT ...|Arizona|Maricopa|Phoenix|0.015882|           0.033|              9|    31|          1.829167|             3.0|             23|  34.0|7.0833330000000005|             16.0|               8|   23.0| 40.26087|             74.0|               8|     72|\n",
      "|2000-01-05|2000|    1|  5|1645 E ROOSEVELT ...|Arizona|Maricopa|Phoenix|0.007353|           0.012|              9|    11|               2.7|             3.7|              2|  42.0|          8.708333|             15.0|               7|   21.0|    48.45|             61.0|              22|     58|\n",
      "|2000-01-06|2000|    1|  6|1645 E ROOSEVELT ...|Arizona|Maricopa|Phoenix|   0.014|           0.025|             10|    23|          2.308333|             3.6|              9|  41.0|6.7619050000000005|             17.0|               7|   24.0|    39.95|             73.0|               8|     71|\n",
      "|2000-01-07|2000|    1|  7|1645 E ROOSEVELT ...|Arizona|Maricopa|Phoenix|0.013235|           0.024|             10|    22|          1.829167|             3.5|             23|  40.0|          8.666667|             21.0|               7|   30.0|   29.625|             43.0|               9|     41|\n",
      "|2000-01-08|2000|    1|  8|1645 E ROOSEVELT ...|Arizona|Maricopa|Phoenix|0.011176|            0.02|             10|    19|            2.7875|             5.1|              2|  57.0|              8.25|             18.0|               0|   26.0|29.666667|             41.0|               0|     39|\n",
      "|2000-01-09|2000|    1|  9|1645 E ROOSEVELT ...|Arizona|Maricopa|Phoenix|0.012588|           0.022|             10|    20|             1.675|             2.8|              2|  32.0|               6.5|             13.0|              19|   19.0|25.083333|             37.0|              20|     35|\n",
      "|2000-01-10|2000|    1| 10|1645 E ROOSEVELT ...|Arizona|Maricopa|Phoenix|    0.01|           0.015|              9|    14|          2.179167|             3.7|             23|  42.0|          9.958333|             21.0|              20|   30.0|37.666667|             70.0|              20|     68|\n",
      "+----------+----+-----+---+--------------------+-------+--------+-------+--------+----------------+---------------+------+------------------+----------------+---------------+------+------------------+-----------------+----------------+-------+---------+-----------------+----------------+-------+\n",
      "only showing top 10 rows\n",
      "\n"
     ]
    }
   ],
   "source": [
    "#Creating spark session and loading data\n",
    "spark = SparkSession(sc)\n",
    "pollutiondf = spark.read.format(\"csv\").option(\"header\", \"true\").load(\"pollution_2000_2021.csv\")\n",
    "pollutiondf.show(10)"
   ]
  },
  {
   "cell_type": "code",
   "execution_count": 4,
   "metadata": {},
   "outputs": [],
   "source": [
    "# Define Breakpoints for AQI Calculation\n",
    "# Format: (C_low, C_high, I_low, I_high)\n",
    "O3_BREAKPOINTS = [\n",
    "    (0.000, 0.054, 0, 50),\n",
    "    (0.055, 0.070, 51, 100),\n",
    "    (0.071, 0.085, 101, 150),\n",
    "    (0.086, 0.105, 151, 200),\n",
    "    (0.106, 0.200, 201, 300),\n",
    "]\n",
    "CO_BREAKPOINTS = [\n",
    "    (0.0, 4.4, 0, 50),\n",
    "    (4.5, 9.4, 51, 100),\n",
    "    (9.5, 12.4, 101, 150),\n",
    "    (12.5, 15.4, 151, 200),\n",
    "    (15.5, 30.4, 201, 300),\n",
    "    (30.5, 40.4, 301, 400),\n",
    "    (40.5, 50.4, 401, 500),\n",
    "]\n",
    "SO2_BREAKPOINTS = [\n",
    "    (0, 35, 0, 50),\n",
    "    (36, 75, 51, 100),\n",
    "    (76, 185, 101, 150),\n",
    "    (186, 304, 151, 200),\n",
    "    (305, 604, 201, 300),\n",
    "    (605, 804, 301, 400),\n",
    "    (805, 1004, 401, 500),\n",
    "]\n",
    "NO2_BREAKPOINTS = [\n",
    "    (0, 53, 0, 50),\n",
    "    (54, 100, 51, 100),\n",
    "    (101, 360, 101, 150),\n",
    "    (361, 649, 151, 200),\n",
    "    (650, 1249, 201, 300),\n",
    "    (1250, 1649, 301, 400),\n",
    "    (1650, 2049, 401, 500),\n",
    "]"
   ]
  },
  {
   "cell_type": "code",
   "execution_count": 5,
   "metadata": {},
   "outputs": [],
   "source": [
    "# AQI Calculation Function\n",
    "#Calculate AQI for a given pollutant based on predefined breakpoints and add it as a new column to the DataFrame.\n",
    "def calculate_aqi(df, pollutant, breakpoints):\n",
    "    aqi_expr = None\n",
    "    for C_low, C_high, I_low, I_high in breakpoints:\n",
    "        # define condition and AQI formula for each breakpoint\n",
    "        condition = (F.col(pollutant) >= C_low) & (F.col(pollutant) <= C_high)\n",
    "        aqi_formula = ((I_high - I_low) / (C_high - C_low)) * (F.col(pollutant) - C_low) + I_low\n",
    "        if aqi_expr is None:\n",
    "            # create the AQI expression for the first condition\n",
    "            aqi_expr = F.when(condition, aqi_formula)\n",
    "        else:\n",
    "            # expand the AQI expression with the new condition\n",
    "            aqi_expr = aqi_expr.when(condition, aqi_formula)\n",
    "    \n",
    "    return df.withColumn(f\"{pollutant}_AQI\", aqi_expr)"
   ]
  },
  {
   "cell_type": "code",
   "execution_count": 6,
   "metadata": {},
   "outputs": [
    {
     "name": "stdout",
     "output_type": "stream",
     "text": [
      "+----------+--------+------+------------------+------------------+------+------------------+------------------+-------+------------------+---------+-------+------------------+\n",
      "|      Date| O3 Mean|O3 AQI|       O3 Mean_AQI|           CO Mean|CO AQI|       CO Mean_AQI|          SO2 Mean|SO2 AQI|      SO2 Mean_AQI| NO2 Mean|NO2 AQI|      NO2 Mean_AQI|\n",
      "+----------+--------+------+------------------+------------------+------+------------------+------------------+-------+------------------+---------+-------+------------------+\n",
      "|2000-01-01|0.019765|    37|18.300925925925927|0.8789469999999999|  25.0| 9.988034090909089|               3.0|   13.0| 4.285714285714286|19.041667|     46| 17.96383679245283|\n",
      "|2000-01-02|0.015882|    30|14.705555555555557|          1.066667|  26.0|12.121215909090909|          1.958333|    4.0|2.7976185714285715|22.958333|     34| 21.65880471698113|\n",
      "|2000-01-03|0.009353|    15| 8.660185185185187|            1.7625|  28.0| 20.02840909090909|              5.25|   16.0|               7.5|   38.125|     48|35.966981132075475|\n",
      "|2000-01-04|0.015882|    31|14.705555555555557|          1.829167|  34.0|20.785988636363637|7.0833330000000005|   23.0|10.119047142857143| 40.26087|     72|37.981952830188675|\n",
      "|2000-01-05|0.007353|    11| 6.808333333333334|               2.7|  42.0|30.681818181818183|          8.708333|   21.0|12.440475714285714|    48.45|     58| 45.70754716981133|\n",
      "|2000-01-06|   0.014|    23|12.962962962962964|          2.308333|  41.0| 26.23105681818182|6.7619050000000005|   24.0| 9.659864285714287|    39.95|     71| 37.68867924528302|\n",
      "|2000-01-07|0.013235|    22| 12.25462962962963|          1.829167|  40.0|20.785988636363637|          8.666667|   30.0|12.380952857142859|   29.625|     41| 27.94811320754717|\n",
      "|2000-01-08|0.011176|    19|10.348148148148148|            2.7875|  57.0|31.676136363636363|              8.25|   26.0|11.785714285714286|29.666667|     39| 27.98742169811321|\n",
      "|2000-01-09|0.012588|    20|11.655555555555557|             1.675|  32.0| 19.03409090909091|               6.5|   19.0| 9.285714285714286|25.083333|     35|23.663521698113207|\n",
      "|2000-01-10|    0.01|    14|  9.25925925925926|          2.179167|  42.0|24.763261363636364|          9.958333|   30.0|14.226189999999999|37.666667|     68| 35.53459150943396|\n",
      "+----------+--------+------+------------------+------------------+------+------------------+------------------+-------+------------------+---------+-------+------------------+\n",
      "only showing top 10 rows\n",
      "\n"
     ]
    }
   ],
   "source": [
    "pollutiondf.select(\"Date\", \"O3 Mean\",\"O3 AQI\",\"CO Mean\",\"CO AQI\",\"SO2 Mean\",\"SO2 AQI\",\"NO2 Mean\",\"NO2 AQI\")\n",
    "# Calculate AQI for each pollutant\n",
    "pollutiondf = calculate_aqi(pollutiondf, \"O3 Mean\", O3_BREAKPOINTS)\n",
    "pollutiondf = calculate_aqi(pollutiondf, \"CO Mean\", CO_BREAKPOINTS)\n",
    "pollutiondf = calculate_aqi(pollutiondf, \"SO2 Mean\", SO2_BREAKPOINTS)\n",
    "pollutiondf = calculate_aqi(pollutiondf, \"NO2 Mean\", NO2_BREAKPOINTS)\n",
    "\n",
    "# Show results\n",
    "pollutiondf.select(\"Date\", \"O3 Mean\", \"O3 AQI\", \"O3 Mean_AQI\", \"CO Mean\", \"CO AQI\", \"CO Mean_AQI\", \"SO2 Mean\", \"SO2 AQI\", \"SO2 Mean_AQI\", \"NO2 Mean\", \"NO2 AQI\", \"NO2 Mean_AQI\").show(10)"
   ]
  },
  {
   "cell_type": "markdown",
   "metadata": {},
   "source": [
    "2. Calculate the all-time most polluted cities for each of the indicators (use the daily \"x Mean\" as values, not the AQI for a specific date). Show the top 10 for each. You can show the results in separate tables, but write your code efficiently!"
   ]
  },
  {
   "cell_type": "code",
   "execution_count": 7,
   "metadata": {},
   "outputs": [],
   "source": [
    "#2. Calculate the all-time most polluted cities for each of the indicators (use the daily \"x Mean\" as values, not the AQI for a specific date). Show the top 10 for each. You can show the results in separate tables, but write your code efficiently!\n",
    "# Calculate the average of each pollutant for each city\n",
    "average_pollution = pollutiondf.groupBy(\"City\").agg(\n",
    "    F.avg(\"O3 Mean\").alias(\"O3 Mean\"),\n",
    "    F.avg(\"CO Mean\").alias(\"CO Mean\"),\n",
    "    F.avg(\"SO2 Mean\").alias(\"SO2 Mean\"),\n",
    "    F.avg(\"NO2 Mean\").alias(\"NO2 Mean\")\n",
    ")\n",
    "top_10_O3 = average_pollution.orderBy(F.desc(\"O3 Mean\")).limit(10)\n",
    "top_10_CO = average_pollution.orderBy(F.desc(\"CO Mean\")).limit(10)\n",
    "top_10_SO2 = average_pollution.orderBy(F.desc(\"SO2 Mean\")).limit(10)\n",
    "top_10_NO2 = average_pollution.orderBy(F.desc(\"NO2 Mean\")).limit(10)"
   ]
  },
  {
   "cell_type": "code",
   "execution_count": 8,
   "metadata": {},
   "outputs": [
    {
     "name": "stdout",
     "output_type": "stream",
     "text": [
      "+--------------------+--------------------+\n",
      "|                City|             O3 Mean|\n",
      "+--------------------+--------------------+\n",
      "|           Roosevelt|0.049524846153846155|\n",
      "|        Boulder City| 0.04127796198347112|\n",
      "|             Capitan|0.040639070016793566|\n",
      "|          Ponca City|0.040218525101763894|\n",
      "|       Winston-Salem|0.038678721649484514|\n",
      "|         Victorville| 0.03717309678259743|\n",
      "|Vandenberg Air Fo...|0.037122593284143884|\n",
      "|            Cornwall|0.036468483351235315|\n",
      "|             Hampton|0.035784318104184455|\n",
      "|         Cherry Tree| 0.03562345342312008|\n",
      "+--------------------+--------------------+\n",
      "\n"
     ]
    }
   ],
   "source": [
    "# Top 10 most polluted cities O3\n",
    "top_10_O3.select(\"City\", \"O3 Mean\").show()"
   ]
  },
  {
   "cell_type": "code",
   "execution_count": 9,
   "metadata": {},
   "outputs": [
    {
     "name": "stdout",
     "output_type": "stream",
     "text": [
      "+-------------+------------------+\n",
      "|         City|           CO Mean|\n",
      "+-------------+------------------+\n",
      "|    Hawthorne|0.8651948047650568|\n",
      "|  Bakersfield|0.8339144722222221|\n",
      "|    San Diego|0.8267505104529564|\n",
      "|Seven Corners|0.8043782304250554|\n",
      "|      Burbank| 0.750850411317565|\n",
      "|       Kenner|0.6993138676470587|\n",
      "|  Chula Vista|0.6926273021978063|\n",
      "|   Washington|0.6423517303899974|\n",
      "|      Chicago|0.6349125815602833|\n",
      "|     Calexico|0.6326138121660547|\n",
      "+-------------+------------------+\n",
      "\n"
     ]
    }
   ],
   "source": [
    "# Top 10 most polluted cities CO\n",
    "top_10_CO.select(\"City\", \"CO Mean\").show()"
   ]
  },
  {
   "cell_type": "code",
   "execution_count": 10,
   "metadata": {},
   "outputs": [
    {
     "name": "stdout",
     "output_type": "stream",
     "text": [
      "+--------------------+------------------+\n",
      "|                City|          SO2 Mean|\n",
      "+--------------------+------------------+\n",
      "|       Seven Corners|11.300477624161081|\n",
      "|          New Castle| 6.471878813880126|\n",
      "|          Greensburg| 6.368438866987191|\n",
      "|              McLean|6.3591178760731655|\n",
      "|             Reading|  6.16206293768997|\n",
      "|        Beaver Falls| 5.774642403217163|\n",
      "|             St. Ann| 5.719362558139535|\n",
      "|           Fairbanks| 5.634989615435359|\n",
      "|Calumet City (PU ...| 5.470537862992126|\n",
      "|           Henderson| 5.228105508379882|\n",
      "+--------------------+------------------+\n",
      "\n"
     ]
    }
   ],
   "source": [
    "# Top 10 most polluted cities SO2\n",
    "top_10_SO2.select(\"City\", \"SO2 Mean\").show()"
   ]
  },
  {
   "cell_type": "code",
   "execution_count": 11,
   "metadata": {},
   "outputs": [
    {
     "name": "stdout",
     "output_type": "stream",
     "text": [
      "+--------------------+------------------+\n",
      "|                City|          NO2 Mean|\n",
      "+--------------------+------------------+\n",
      "|             Chicago|31.451528046099323|\n",
      "|             Burbank|30.431701535472882|\n",
      "|         Bakersfield| 29.02237005555556|\n",
      "|           Hawthorne|24.985028121111856|\n",
      "|    West Los Angeles|23.778210487455194|\n",
      "|          Scottsdale| 22.61990255223194|\n",
      "|          Long Beach|22.071382071279952|\n",
      "|Calumet City (PU ...|21.777968725984273|\n",
      "|              Cicero|21.262819596439172|\n",
      "|               Ladue| 21.09329080184332|\n",
      "+--------------------+------------------+\n",
      "\n"
     ]
    }
   ],
   "source": [
    "# Top 10 most polluted cities NO2\n",
    "top_10_NO2.select(\"City\", \"NO2 Mean\").show()"
   ]
  },
  {
   "cell_type": "markdown",
   "metadata": {},
   "source": [
    "3. Find the statistical correlation (if any!) between traffic-based AQI indicators (SO2/NO2). Note that either may also be a result of industrial activity, so the correlation may be far from perfect. Additionally, determine if the climate difference between northern and southern states has an influence on CO and O3 AQI (pick one northern and one southern state, you don't have to do all of them). You are free to figure out your own approach how to do this, but document it well. Hint: don't start with either Alaska or Hawaii, they're statistical outliers."
   ]
  },
  {
   "cell_type": "code",
   "execution_count": 12,
   "metadata": {},
   "outputs": [
    {
     "name": "stdout",
     "output_type": "stream",
     "text": [
      "Correlation between SO2 Mean AQI and NO2 Mean AQI: 0.30259658257408323\n",
      "Moderate correlation\n"
     ]
    }
   ],
   "source": [
    "#3. Find the statistical correlation (if any!) between traffic-based AQI indicators (SO2/NO2). Note that either may also be a result of industrial activity, so the correlation may be far from perfect. Additionally, determine if the climate difference between northern and southern states has an influence on CO and O3 AQI (pick one northern and one southern state, you don't have to do all of them). You are free to figure out your own approach how to do this, but document it well. Hint: don't start with either Alaska or Hawaii, they're statistical outliers.\n",
    "# Convert SO2 AQI and NO2 AQI columns to DoubleType\n",
    "pollutiondf = pollutiondf.withColumn(\"SO2 AQI\", F.col(\"SO2 AQI\").cast(DoubleType()))\n",
    "pollutiondf = pollutiondf.withColumn(\"NO2 AQI\", F.col(\"NO2 AQI\").cast(DoubleType()))\n",
    "\n",
    "# Correlation between SO2 and NO2\n",
    "# Functioon to interpret the correlation value\n",
    "def interpret_correlation(value):\n",
    "    if abs(value) < 0.1:\n",
    "        print(\"No or very weak correlation\")\n",
    "    elif abs(value) < 0.3:\n",
    "        print(\"Weak correlation\")\n",
    "    elif abs(value) < 0.5:\n",
    "        print(\"Moderate correlation\")\n",
    "    elif abs(value) < 0.9:\n",
    "        print(\"Strong correlation\")\n",
    "    else:\n",
    "        print(\"Very strong correlation\")\n",
    "correlation = pollutiondf.stat.corr(\"SO2 AQI\", \"NO2 AQI\")\n",
    "print(f\"Correlation between SO2 Mean AQI and NO2 Mean AQI: {correlation}\")\n",
    "interpret_correlation(correlation)\n"
   ]
  },
  {
   "cell_type": "code",
   "execution_count": 13,
   "metadata": {},
   "outputs": [
    {
     "name": "stdout",
     "output_type": "stream",
     "text": [
      "+---------+-----+------------------+------------------+\n",
      "|    State|Month|       CO Mean_AQI|       O3 Mean_AQI|\n",
      "+---------+-----+------------------+------------------+\n",
      "|Minnesota|    1|3.0387538086913075| 20.94612332112332|\n",
      "|Minnesota|    2| 2.879849328780026|26.488596238725787|\n",
      "|Minnesota|    3|2.7621064049586774|30.455564908342676|\n",
      "|Minnesota|    4|2.6189013082505728| 33.37626828509182|\n",
      "|Minnesota|    5|2.4239084022038555| 33.23841561648229|\n",
      "|Minnesota|    6|2.3877163352272706| 34.10202185662057|\n",
      "|Minnesota|    7|2.7191370172968607|  28.2870411340544|\n",
      "|Minnesota|    8| 2.864411054994387|24.282102575826862|\n",
      "|Minnesota|    9|2.6479837403288196|21.781176122931424|\n",
      "|Minnesota|   10|3.0184358483086653| 19.92481589776911|\n",
      "|Minnesota|   11|3.3595823484848495|17.289456790123445|\n",
      "|Minnesota|   12|2.9627889185977416|17.336147421931734|\n",
      "+---------+-----+------------------+------------------+\n",
      "\n",
      "+-----+-----+------------------+------------------+\n",
      "|State|Month|       CO Mean_AQI|       O3 Mean_AQI|\n",
      "+-----+-----+------------------+------------------+\n",
      "|Texas|    1|3.4628954699116394| 18.14585032553484|\n",
      "|Texas|    2|  3.08221656283651|22.273767938835594|\n",
      "|Texas|    3|2.7545855484742248|28.321258565406893|\n",
      "|Texas|    4| 2.542618019114073|32.500394012466025|\n",
      "|Texas|    5| 2.301442205693029|32.988354866812834|\n",
      "|Texas|    6|2.0227130210749356| 29.07984036050812|\n",
      "|Texas|    7| 2.004027390897217|27.500475062862154|\n",
      "|Texas|    8| 2.282302478845758| 30.21544278529644|\n",
      "|Texas|    9|2.5934766631835737| 28.69287722009225|\n",
      "|Texas|   10|2.8881616023966408|24.389941975717004|\n",
      "|Texas|   11|3.5221490584761774| 19.95001214867352|\n",
      "|Texas|   12| 3.616271533486499|16.674271674595293|\n",
      "+-----+-----+------------------+------------------+\n",
      "\n"
     ]
    }
   ],
   "source": [
    "# Influence of climate on CO and O3 AQI\n",
    "# Select one northern and one southern state\n",
    "northern_state=\"Minnesota\"\n",
    "southern_state=\"Texas\"\n",
    "# Filter data for the selected states\n",
    "northern_data = pollutiondf.filter(F.col(\"State\") == northern_state)\n",
    "southern_data = pollutiondf.filter(F.col(\"State\") == southern_state)\n",
    "\n",
    "# Calculate the average AQI for CO and O3 for each state per month\n",
    "northern_data = northern_data.groupBy(\"State\", \"Month\").agg(\n",
    "    F.avg(\"CO Mean_AQI\").alias(\"CO Mean_AQI\"),\n",
    "    F.avg(\"O3 Mean_AQI\").alias(\"O3 Mean_AQI\")\n",
    ")\n",
    "southern_data = southern_data.groupBy(\"State\", \"Month\").agg(\n",
    "    F.avg(\"CO Mean_AQI\").alias(\"CO Mean_AQI\"),\n",
    "    F.avg(\"O3 Mean_AQI\").alias(\"O3 Mean_AQI\")\n",
    ")\n",
    "# Ensure the Month column is cast to an integer\n",
    "northern_data = northern_data.withColumn(\"Month\", F.col(\"Month\").cast(\"int\"))\n",
    "southern_data = southern_data.withColumn(\"Month\", F.col(\"Month\").cast(\"int\"))\n",
    "\n",
    "# Order by Month correctly\n",
    "northern_data.orderBy(\"Month\").show()\n",
    "southern_data.orderBy(\"Month\").show()"
   ]
  },
  {
   "cell_type": "code",
   "execution_count": 14,
   "metadata": {},
   "outputs": [
    {
     "name": "stdout",
     "output_type": "stream",
     "text": [
      "+---------+-----------------+-----------------+\n",
      "|    State|      CO Mean_AQI|      O3 Mean_AQI|\n",
      "+---------+-----------------+-----------------+\n",
      "|Minnesota|2.806964543010253|25.62564418075195|\n",
      "+---------+-----------------+-----------------+\n",
      "\n",
      "+-----+-----------------+-----------------+\n",
      "|State|      CO Mean_AQI|      O3 Mean_AQI|\n",
      "+-----+-----------------+-----------------+\n",
      "|Texas|2.756071629532524|25.89437391140008|\n",
      "+-----+-----------------+-----------------+\n",
      "\n"
     ]
    }
   ],
   "source": [
    "# Calculate average per year\n",
    "northern_data = northern_data.groupBy(\"State\").agg(\n",
    "    F.avg(\"CO Mean_AQI\").alias(\"CO Mean_AQI\"),\n",
    "    F.avg(\"O3 Mean_AQI\").alias(\"O3 Mean_AQI\")\n",
    ")\n",
    "southern_data = southern_data.groupBy(\"State\").agg(\n",
    "    F.avg(\"CO Mean_AQI\").alias(\"CO Mean_AQI\"),\n",
    "    F.avg(\"O3 Mean_AQI\").alias(\"O3 Mean_AQI\")\n",
    ")\n",
    "northern_data.show()\n",
    "southern_data.show()\n"
   ]
  },
  {
   "cell_type": "markdown",
   "metadata": {},
   "source": [
    "The output of the two cells above show that there is little difference\n",
    "between the CO and O3 AQI values for the northern and southern states.\n",
    "The difference is not significant enough to conclude that the climate has an influence on the AQI values."
   ]
  },
  {
   "cell_type": "markdown",
   "metadata": {},
   "source": [
    "4. For each city, calculate if traffic-based indicators, heating-based indicators (CO in this case), or weather-bound indicators (O3) are the major polluting factor and add this information in a separate column \"MajorFactor\" (values \"traffic\", \"heating\", \"weather\")."
   ]
  },
  {
   "cell_type": "code",
   "execution_count": 15,
   "metadata": {},
   "outputs": [
    {
     "name": "stdout",
     "output_type": "stream",
     "text": [
      "+--------------------+-----------+\n",
      "|                City|MajorFactor|\n",
      "+--------------------+-----------+\n",
      "|           Fairbanks|    traffic|\n",
      "|             Phoenix|    traffic|\n",
      "|           Pittsburg|    traffic|\n",
      "|       Not in a city|    traffic|\n",
      "|         Grantsville|    traffic|\n",
      "|            Rubidoux|    traffic|\n",
      "|  Breckenridge Hills|    traffic|\n",
      "|Indianapolis (Rem...|    traffic|\n",
      "|  East Highland Park|    traffic|\n",
      "|              Dallas|    traffic|\n",
      "|Lexington-Fayette...|    traffic|\n",
      "|             Oakland|    traffic|\n",
      "|          Manchester|    traffic|\n",
      "|           Cupertino|    traffic|\n",
      "|          Scottsdale|    traffic|\n",
      "|             Fontana|    traffic|\n",
      "|             Rutland|    traffic|\n",
      "|               Welby|    traffic|\n",
      "|         Bakersfield|    traffic|\n",
      "|          Holtsville|    traffic|\n",
      "+--------------------+-----------+\n",
      "only showing top 20 rows\n",
      "\n"
     ]
    }
   ],
   "source": [
    "# traffic-based indicators -> NO2 + S02\n",
    "# Identify the major polution indicator for each city in the dataset\n",
    "# calculate the average pollution levels per city for different indicators:\n",
    "# - Traffic-related pollution: NO2 and SO2\n",
    "# - Heating-related pollution: CO\n",
    "# - Weather-influenced pollution: O3\n",
    "pollution_avg = pollutiondf.groupBy(\"City\").agg(\n",
    "    F.avg(\"NO2 Mean\").alias(\"Avg_NO2\"),  \n",
    "    F.avg(\"SO2 Mean\").alias(\"Avg_SO2\"),  \n",
    "    F.avg(\"CO Mean\").alias(\"Avg_CO\"),    \n",
    "    F.avg(\"O3 Mean\").alias(\"Avg_O3\")  )   \n",
    "\n",
    "# Determine the major pollution factor for each city\n",
    "pollution_avg = pollution_avg.withColumn(\n",
    "    \"MajorFactor\",\n",
    "    F.when((F.col(\"Avg_NO2\") + F.col(\"Avg_SO2\") > F.col(\"Avg_CO\")) & (F.col(\"Avg_NO2\") + F.col(\"Avg_SO2\") > F.col(\"Avg_O3\")), \"traffic\")\n",
    "    .when((F.col(\"Avg_CO\") > F.col(\"Avg_NO2\") + F.col(\"Avg_SO2\")) & (F.col(\"Avg_CO\") > F.col(\"Avg_O3\")), \"heating\")\n",
    "    .otherwise(\"weather\")\n",
    ")\n",
    "\n",
    "# example of a few cities (column 1) with their major polluting factir in the second column.\n",
    "# example of a few cities with their dominant pollution source\n",
    "pollution_avg.select(\"City\", \"MajorFactor\").show()"
   ]
  },
  {
   "cell_type": "markdown",
   "metadata": {},
   "source": [
    "Table Showing the cities int the dataset with their MajorFactor."
   ]
  },
  {
   "cell_type": "markdown",
   "metadata": {},
   "source": [
    "5. Find the city with the greatest pollution spree, calculated as counting the number of consecutive days where the AQI for a chosen indicator is higher than 50. Extend your solution so you can efficiently calculate it for any AQI."
   ]
  },
  {
   "cell_type": "code",
   "execution_count": 16,
   "metadata": {},
   "outputs": [
    {
     "name": "stdout",
     "output_type": "stream",
     "text": [
      "+--------------+---------+\n",
      "|          City|MaxStreak|\n",
      "+--------------+---------+\n",
      "|      Rubidoux|      332|\n",
      "|Salt Lake City|       85|\n",
      "|   Victorville|       74|\n",
      "|        Fresno|       73|\n",
      "|       Fontana|       69|\n",
      "+--------------+---------+\n",
      "\n"
     ]
    }
   ],
   "source": [
    "# Find the city with the greatest pollution spree of high pollution days\n",
    "# We define a pollution streak as consecutive days where the AQI is higher than 50.\n",
    "\n",
    "# To calculate it for another AQI you only need to change the following line \"03 AQI\" becomes \"S02/NO2/CO AQI\"\n",
    "chosen_aqi = \"O3 AQI\"\n",
    "# if higher than 50.  \n",
    "threshold = 50  \n",
    "\n",
    "# Create a column that marks whether AQI is above the threshold (in this case 50)\n",
    "pollutiondf = pollutiondf.withColumn(\"Above_Threshold\", (F.col(chosen_aqi) > threshold).cast(\"int\"))\n",
    "\n",
    "# Define a window specification partitioned by city and ordered by date\n",
    "windowSpec = Window.partitionBy(\"City\").orderBy(\"Date\")\n",
    "\n",
    "# Identify when a new streak (consecutive days) starts (i.e., the first day AQI exceeds 50 after being below it)\n",
    "pollutiondf = pollutiondf.withColumn(\"StreakStart\", F.when((F.col(\"Above_Threshold\") == 1) & (F.lag(\"Above_Threshold\", 1).over(windowSpec) == 0), 1).otherwise(0))\n",
    "# (F.lag(\"Above_Threshold\", 1).over(windowSpec) == 0), 1) -> checks if previous day exceeds the AQI-threshold.\n",
    "\n",
    "# sum to group consecutive high-AQI days into streaks, count the length of each streak, at last search the longest sprees per city.\n",
    "pollutiondf = pollutiondf.withColumn(\"StreakGroup\", F.sum(\"StreakStart\").over(windowSpec))\n",
    "streaks = pollutiondf.filter(F.col(\"Above_Threshold\") == 1).groupBy(\"City\", \"StreakGroup\").agg(F.count(\"Above_Threshold\").alias(\"StreakLength\"))\n",
    "longest_streak = streaks.groupBy(\"City\").agg(F.max(\"StreakLength\").alias(\"MaxStreak\"))\n",
    "\n",
    "# example of a few cities with the greatest pollution sprees\n",
    "most_polluted_city = longest_streak.orderBy(F.desc(\"MaxStreak\")).limit(5)\n",
    "most_polluted_city.show()\n"
   ]
  },
  {
   "cell_type": "markdown",
   "metadata": {},
   "source": [
    "The city with the greatest pollution spree is Rubidoux with 332 consecutive days, where the 03-AQI is higher than 50."
   ]
  }
 ],
 "metadata": {
  "kernelspec": {
   "display_name": "base",
   "language": "python",
   "name": "python3"
  },
  "language_info": {
   "codemirror_mode": {
    "name": "ipython",
    "version": 3
   },
   "file_extension": ".py",
   "mimetype": "text/x-python",
   "name": "python",
   "nbconvert_exporter": "python",
   "pygments_lexer": "ipython3",
   "version": "3.11.6"
  }
 },
 "nbformat": 4,
 "nbformat_minor": 2
}
